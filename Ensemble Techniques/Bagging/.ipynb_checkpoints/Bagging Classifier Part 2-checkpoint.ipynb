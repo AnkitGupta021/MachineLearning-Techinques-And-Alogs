{
 "cells": [
  {
   "cell_type": "code",
   "execution_count": 1,
   "id": "fe0ccfd4",
   "metadata": {},
   "outputs": [],
   "source": [
    "## In this module we will implement the Bagging concept, along with other techniques like pasting, random Subspaces\n",
    "## Random Patches\n",
    "\n",
    "from sklearn.datasets import make_classification\n",
    "from sklearn.metrics import accuracy_score\n",
    "from sklearn.ensemble import BaggingClassifier\n",
    "from sklearn.tree import DecisionTreeClassifier\n",
    "from sklearn.svm import SVC\n",
    "from sklearn.neighbors import KNeighborsClassifier\n",
    "from sklearn.model_selection import train_test_split"
   ]
  },
  {
   "cell_type": "code",
   "execution_count": 2,
   "id": "57a7040f",
   "metadata": {},
   "outputs": [],
   "source": [
    "x,y = make_classification(n_samples=10000, n_features=10,n_informative=3)"
   ]
  },
  {
   "cell_type": "code",
   "execution_count": 3,
   "id": "205338b5",
   "metadata": {},
   "outputs": [
    {
     "data": {
      "text/plain": [
       "array([[ 1.41003202,  1.36628503,  0.67157065, ..., -0.42526598,\n",
       "         0.00778019,  0.78978134],\n",
       "       [ 1.62277087, -0.78101319, -0.9098974 , ..., -0.08486022,\n",
       "         1.37137961, -0.25091664],\n",
       "       [ 1.74659728,  0.56382064,  0.9577343 , ...,  0.08059094,\n",
       "        -1.13085431, -1.36292752],\n",
       "       ...,\n",
       "       [-0.73142626, -0.32178289,  1.99339629, ...,  0.36183066,\n",
       "         1.14762633, -0.7650081 ],\n",
       "       [-1.0615066 , -1.84923839, -0.1483601 , ...,  1.06995629,\n",
       "        -0.10713427, -0.42652947],\n",
       "       [-0.49381123,  0.67984881,  0.27958147, ..., -0.61861977,\n",
       "        -0.16027456,  2.40240974]])"
      ]
     },
     "execution_count": 3,
     "metadata": {},
     "output_type": "execute_result"
    }
   ],
   "source": [
    "x"
   ]
  },
  {
   "cell_type": "code",
   "execution_count": 4,
   "id": "84306a8f",
   "metadata": {},
   "outputs": [
    {
     "data": {
      "text/plain": [
       "array([0, 0, 0, ..., 1, 0, 1])"
      ]
     },
     "execution_count": 4,
     "metadata": {},
     "output_type": "execute_result"
    }
   ],
   "source": [
    "y"
   ]
  },
  {
   "cell_type": "code",
   "execution_count": 11,
   "id": "a77c6ae2",
   "metadata": {},
   "outputs": [],
   "source": [
    "# Splitting the dataset\n",
    "\n",
    "x_train, x_test, y_train, y_test = train_test_split(x,y, train_size=0.8, random_state=4)"
   ]
  },
  {
   "cell_type": "markdown",
   "id": "4a8acd24",
   "metadata": {},
   "source": [
    "## Decision Tree"
   ]
  },
  {
   "cell_type": "code",
   "execution_count": 12,
   "id": "589ae2f3",
   "metadata": {},
   "outputs": [
    {
     "name": "stdout",
     "output_type": "stream",
     "text": [
      "Decision Tree Accuracy :  0.901\n"
     ]
    }
   ],
   "source": [
    "## Using with Single Decision Tree\n",
    "\n",
    "dt = DecisionTreeClassifier(random_state=4)\n",
    "dt.fit(x_train,y_train)\n",
    "y_pred = dt.predict(x_test)\n",
    "\n",
    "print('Decision Tree Accuracy : ', accuracy_score(y_test,y_pred))"
   ]
  },
  {
   "cell_type": "markdown",
   "id": "644c6493",
   "metadata": {},
   "source": [
    "## Bagging"
   ]
  },
  {
   "cell_type": "code",
   "execution_count": 13,
   "id": "047163e8",
   "metadata": {},
   "outputs": [],
   "source": [
    "bag = BaggingClassifier(base_estimator=DecisionTreeClassifier(),\n",
    "                       n_estimators=500,\n",
    "                       max_samples=0.25,\n",
    "                       bootstrap=True,\n",
    "                       random_state=4)"
   ]
  },
  {
   "cell_type": "code",
   "execution_count": 14,
   "id": "31a7fc2c",
   "metadata": {},
   "outputs": [
    {
     "data": {
      "text/plain": [
       "BaggingClassifier(base_estimator=DecisionTreeClassifier(), max_samples=0.25,\n",
       "                  n_estimators=500, random_state=4)"
      ]
     },
     "execution_count": 14,
     "metadata": {},
     "output_type": "execute_result"
    }
   ],
   "source": [
    "bag.fit(x_train, y_train)"
   ]
  },
  {
   "cell_type": "code",
   "execution_count": 15,
   "id": "cc6718fb",
   "metadata": {},
   "outputs": [
    {
     "name": "stdout",
     "output_type": "stream",
     "text": [
      "Bagging Accuracy :  0.9315\n"
     ]
    }
   ],
   "source": [
    "y_pred_bag = bag.predict(x_test)\n",
    "\n",
    "print('Bagging Accuracy with DT : ', accuracy_score(y_test, y_pred_bag))"
   ]
  },
  {
   "cell_type": "code",
   "execution_count": 16,
   "id": "254c8e3a",
   "metadata": {},
   "outputs": [
    {
     "data": {
      "text/plain": [
       "(2000,)"
      ]
     },
     "execution_count": 16,
     "metadata": {},
     "output_type": "execute_result"
    }
   ],
   "source": [
    "## To check how many rows are assisgned to each DT\n",
    "\n",
    "bag.estimators_samples_[0].shape ## 2000 rows coz we have selected max_sample as 0.25 i.e 25% of 8000 (len(x))"
   ]
  },
  {
   "cell_type": "code",
   "execution_count": 17,
   "id": "b1b8d94c",
   "metadata": {},
   "outputs": [
    {
     "data": {
      "text/plain": [
       "(10,)"
      ]
     },
     "execution_count": 17,
     "metadata": {},
     "output_type": "execute_result"
    }
   ],
   "source": [
    "## To check how many columns are assisgned to each DT\n",
    "\n",
    "bag.estimators_features_[0].shape"
   ]
  },
  {
   "cell_type": "code",
   "execution_count": 18,
   "id": "d8aa5746",
   "metadata": {},
   "outputs": [],
   "source": [
    "## Since we are using Row sampling so we are taking all 10 columns"
   ]
  },
  {
   "cell_type": "markdown",
   "id": "e293be80",
   "metadata": {},
   "source": [
    "## Bagging using SVM"
   ]
  },
  {
   "cell_type": "code",
   "execution_count": 21,
   "id": "0632cd12",
   "metadata": {},
   "outputs": [],
   "source": [
    "bag_svc = BaggingClassifier(base_estimator=SVC(),\n",
    "                       n_estimators=500,\n",
    "                       max_samples=0.25,\n",
    "                       bootstrap=True,\n",
    "                       random_state=4)"
   ]
  },
  {
   "cell_type": "code",
   "execution_count": 22,
   "id": "5a94de44",
   "metadata": {},
   "outputs": [
    {
     "data": {
      "text/plain": [
       "BaggingClassifier(base_estimator=SVC(), max_samples=0.25, n_estimators=500,\n",
       "                  random_state=4)"
      ]
     },
     "execution_count": 22,
     "metadata": {},
     "output_type": "execute_result"
    }
   ],
   "source": [
    "bag_svc.fit(x_train, y_train)"
   ]
  },
  {
   "cell_type": "code",
   "execution_count": 26,
   "id": "8d4cdbca",
   "metadata": {},
   "outputs": [],
   "source": [
    "y_pred_bag_svc = bag_svc.predict(x_test)"
   ]
  },
  {
   "cell_type": "code",
   "execution_count": 27,
   "id": "19b75517",
   "metadata": {},
   "outputs": [
    {
     "name": "stdout",
     "output_type": "stream",
     "text": [
      "Bagging Accuracy with SVC :  0.86\n"
     ]
    }
   ],
   "source": [
    "print('Bagging Accuracy with SVC : ', accuracy_score(y_test, y_pred_bag_svc))"
   ]
  },
  {
   "cell_type": "code",
   "execution_count": null,
   "id": "edb3e745",
   "metadata": {},
   "outputs": [],
   "source": [
    "## So the Accuracy is reduced using SVM as an estimator for Base Models"
   ]
  },
  {
   "cell_type": "markdown",
   "id": "49fa7e91",
   "metadata": {},
   "source": [
    "## Pasting"
   ]
  },
  {
   "cell_type": "code",
   "execution_count": 28,
   "id": "5e16a72c",
   "metadata": {},
   "outputs": [],
   "source": [
    "# In pasting everything will remain same only we put Boostrap to False\n",
    "\n",
    "pasting = BaggingClassifier(base_estimator=DecisionTreeClassifier(),\n",
    "                       n_estimators=500,\n",
    "                       max_samples=0.25,\n",
    "                       bootstrap=False,\n",
    "                       random_state=4, verbose=-1, n_jobs=-1)"
   ]
  },
  {
   "cell_type": "code",
   "execution_count": 29,
   "id": "51e79ac2",
   "metadata": {},
   "outputs": [
    {
     "name": "stderr",
     "output_type": "stream",
     "text": [
      "[Parallel(n_jobs=4)]: Using backend LokyBackend with 4 concurrent workers.\n",
      "[Parallel(n_jobs=4)]: Done   4 out of   4 | elapsed:    8.4s finished\n"
     ]
    },
    {
     "data": {
      "text/plain": [
       "BaggingClassifier(base_estimator=DecisionTreeClassifier(), bootstrap=False,\n",
       "                  max_samples=0.25, n_estimators=500, n_jobs=-1, random_state=4,\n",
       "                  verbose=-1)"
      ]
     },
     "execution_count": 29,
     "metadata": {},
     "output_type": "execute_result"
    }
   ],
   "source": [
    "pasting.fit(x_train, y_train)"
   ]
  },
  {
   "cell_type": "code",
   "execution_count": 30,
   "id": "4c29acf1",
   "metadata": {},
   "outputs": [
    {
     "name": "stderr",
     "output_type": "stream",
     "text": [
      "[Parallel(n_jobs=4)]: Using backend LokyBackend with 4 concurrent workers.\n"
     ]
    },
    {
     "name": "stdout",
     "output_type": "stream",
     "text": [
      "Pasting Accuracy :  0.9325\n"
     ]
    },
    {
     "name": "stderr",
     "output_type": "stream",
     "text": [
      "[Parallel(n_jobs=4)]: Done   4 out of   4 | elapsed:    0.5s finished\n"
     ]
    }
   ],
   "source": [
    "y_pred_past = pasting.predict(x_test)\n",
    "\n",
    "print('Pasting Accuracy : ', accuracy_score(y_test,y_pred_past))"
   ]
  },
  {
   "cell_type": "code",
   "execution_count": 31,
   "id": "f4de42d3",
   "metadata": {},
   "outputs": [],
   "source": [
    "## So accuracy is improved as compare to Bagging with DT"
   ]
  },
  {
   "cell_type": "markdown",
   "id": "305fe9d1",
   "metadata": {},
   "source": [
    "## Random Subspaces"
   ]
  },
  {
   "cell_type": "code",
   "execution_count": 33,
   "id": "cb5a34ef",
   "metadata": {},
   "outputs": [
    {
     "name": "stderr",
     "output_type": "stream",
     "text": [
      "[Parallel(n_jobs=4)]: Using backend LokyBackend with 4 concurrent workers.\n",
      "[Parallel(n_jobs=4)]: Done   4 out of   4 | elapsed:   14.6s finished\n"
     ]
    },
    {
     "data": {
      "text/plain": [
       "BaggingClassifier(base_estimator=DecisionTreeClassifier(), bootstrap=False,\n",
       "                  bootstrap_features=True, max_features=0.5, n_estimators=500,\n",
       "                  n_jobs=-1, random_state=4, verbose=-1)"
      ]
     },
     "execution_count": 33,
     "metadata": {},
     "output_type": "execute_result"
    }
   ],
   "source": [
    "## In Random Subspaces, we do Random Sampling on Columns, Not on Rows so we will take all the rows so \n",
    "## max_samples = 1.0,\n",
    "## bootstrap_feature = False means Random Sampling Column Wise Without Replacement\n",
    "## bootstrap_feature = True means Random Sampling Column Wise With Replacement\n",
    "## max_features = 0.5, as in 500 DT will have only 5 columns out of 10\n",
    "\n",
    "rand_s = BaggingClassifier(base_estimator=DecisionTreeClassifier(),\n",
    "                       n_estimators=500,\n",
    "                       max_samples=1.0,\n",
    "                       bootstrap=False,\n",
    "                       max_features=0.5,\n",
    "                       bootstrap_features=True,\n",
    "                       random_state=4, verbose=-1, n_jobs=-1)\n",
    "\n",
    "rand_s.fit(x_train,y_train)"
   ]
  },
  {
   "cell_type": "code",
   "execution_count": 34,
   "id": "d9c02779",
   "metadata": {},
   "outputs": [
    {
     "name": "stderr",
     "output_type": "stream",
     "text": [
      "[Parallel(n_jobs=4)]: Using backend LokyBackend with 4 concurrent workers.\n"
     ]
    },
    {
     "name": "stdout",
     "output_type": "stream",
     "text": [
      "Random Subspaces Accuracy :  0.924\n"
     ]
    },
    {
     "name": "stderr",
     "output_type": "stream",
     "text": [
      "[Parallel(n_jobs=4)]: Done   4 out of   4 | elapsed:    1.2s finished\n"
     ]
    }
   ],
   "source": [
    "y_pred_rand_s = rand_s.predict(x_test)\n",
    "\n",
    "print('Random Subspaces Accuracy : ',accuracy_score(y_test, y_pred_rand_s))"
   ]
  },
  {
   "cell_type": "code",
   "execution_count": 35,
   "id": "c7ed82b0",
   "metadata": {},
   "outputs": [],
   "source": [
    "## So accuracy is coming around to be 92.4% i.e is lower than pasting and Bagging with DT"
   ]
  },
  {
   "cell_type": "code",
   "execution_count": 37,
   "id": "b335b0cc",
   "metadata": {},
   "outputs": [
    {
     "data": {
      "text/plain": [
       "(8000,)"
      ]
     },
     "execution_count": 37,
     "metadata": {},
     "output_type": "execute_result"
    }
   ],
   "source": [
    "rand_s.estimators_samples_[0].shape"
   ]
  },
  {
   "cell_type": "code",
   "execution_count": 38,
   "id": "96206f95",
   "metadata": {},
   "outputs": [],
   "source": [
    "## 8000 as we are taking all the rows/samples"
   ]
  },
  {
   "cell_type": "code",
   "execution_count": 39,
   "id": "f28ba47f",
   "metadata": {},
   "outputs": [
    {
     "data": {
      "text/plain": [
       "(5,)"
      ]
     },
     "execution_count": 39,
     "metadata": {},
     "output_type": "execute_result"
    }
   ],
   "source": [
    "rand_s.estimators_features_[0].shape"
   ]
  },
  {
   "cell_type": "code",
   "execution_count": 41,
   "id": "480b3da9",
   "metadata": {},
   "outputs": [],
   "source": [
    "## Only 5 features so Random_Sampling Columns Wise is Working Fine here."
   ]
  },
  {
   "cell_type": "markdown",
   "id": "14695171",
   "metadata": {},
   "source": [
    "## Random Patches"
   ]
  },
  {
   "cell_type": "code",
   "execution_count": 42,
   "id": "4c68f64e",
   "metadata": {},
   "outputs": [
    {
     "name": "stderr",
     "output_type": "stream",
     "text": [
      "[Parallel(n_jobs=4)]: Using backend LokyBackend with 4 concurrent workers.\n",
      "[Parallel(n_jobs=4)]: Done   2 out of   4 | elapsed:    5.0s remaining:    5.0s\n",
      "[Parallel(n_jobs=4)]: Done   4 out of   4 | elapsed:    5.1s finished\n"
     ]
    },
    {
     "data": {
      "text/plain": [
       "BaggingClassifier(base_estimator=DecisionTreeClassifier(),\n",
       "                  bootstrap_features=True, max_features=0.5, max_samples=0.25,\n",
       "                  n_estimators=500, n_jobs=-1, random_state=4, verbose=True)"
      ]
     },
     "execution_count": 42,
     "metadata": {},
     "output_type": "execute_result"
    }
   ],
   "source": [
    "## In this technique we use column sampling along with row sampling.\n",
    "\n",
    "## max_samples=, bootstrap= , max_feautures=, bootstrap_feaures= , these all parameters will be used.\n",
    "\n",
    "rand_P = BaggingClassifier(base_estimator=DecisionTreeClassifier(), \n",
    "                          n_estimators=500,\n",
    "                           max_samples=0.25,\n",
    "                          bootstrap=True,\n",
    "                          max_features=0.5,\n",
    "                          bootstrap_features=True,\n",
    "                          random_state=4, \n",
    "                          verbose=True,\n",
    "                          n_jobs=-1)\n",
    "\n",
    "rand_P.fit(x_train,y_train)"
   ]
  },
  {
   "cell_type": "code",
   "execution_count": 43,
   "id": "fdbcafad",
   "metadata": {},
   "outputs": [
    {
     "name": "stderr",
     "output_type": "stream",
     "text": [
      "[Parallel(n_jobs=4)]: Using backend LokyBackend with 4 concurrent workers.\n"
     ]
    },
    {
     "name": "stdout",
     "output_type": "stream",
     "text": [
      "Random Patches Accuracy :  0.92\n"
     ]
    },
    {
     "name": "stderr",
     "output_type": "stream",
     "text": [
      "[Parallel(n_jobs=4)]: Done   2 out of   4 | elapsed:    0.4s remaining:    0.4s\n",
      "[Parallel(n_jobs=4)]: Done   4 out of   4 | elapsed:    0.5s finished\n"
     ]
    }
   ],
   "source": [
    "y_pred_rand_P = rand_P.predict(x_test)\n",
    "\n",
    "print('Random Patches Accuracy : ',accuracy_score(y_test, y_pred_rand_P))"
   ]
  },
  {
   "cell_type": "code",
   "execution_count": null,
   "id": "371c9db3",
   "metadata": {},
   "outputs": [],
   "source": [
    "## So Accuracy Further gets reduce to 92.0%"
   ]
  },
  {
   "cell_type": "markdown",
   "id": "88d5c658",
   "metadata": {},
   "source": [
    "## OOB Score"
   ]
  },
  {
   "cell_type": "code",
   "execution_count": 44,
   "id": "15836ced",
   "metadata": {},
   "outputs": [
    {
     "data": {
      "text/plain": [
       "BaggingClassifier(base_estimator=DecisionTreeClassifier(), max_samples=0.25,\n",
       "                  n_estimators=500, oob_score=True, random_state=4)"
      ]
     },
     "execution_count": 44,
     "metadata": {},
     "output_type": "execute_result"
    }
   ],
   "source": [
    "## OOB - Out of Bags are defined as those samples which are never the part of Base Estimator which model training\n",
    "## OOB score can be also used to evaluate the model performance as its will be an unseen data that Model didn't see\n",
    "\n",
    "## OOB Score can be calculated by setting up a hyperparamet to True with the name of OOB_score\n",
    "\n",
    "bag = BaggingClassifier(base_estimator=DecisionTreeClassifier(),\n",
    "                       n_estimators=500,\n",
    "                       max_samples=0.25,\n",
    "                       bootstrap=True,\n",
    "                       oob_score=True,  ## Setting True\n",
    "                       random_state=4)\n",
    "\n",
    "bag.fit(x_train, y_train)"
   ]
  },
  {
   "cell_type": "code",
   "execution_count": 45,
   "id": "7dfa5695",
   "metadata": {},
   "outputs": [
    {
     "data": {
      "text/plain": [
       "0.92775"
      ]
     },
     "execution_count": 45,
     "metadata": {},
     "output_type": "execute_result"
    }
   ],
   "source": [
    "bag.oob_score_ ## 92.77%"
   ]
  },
  {
   "cell_type": "code",
   "execution_count": 46,
   "id": "5896092c",
   "metadata": {},
   "outputs": [],
   "source": [
    "## It gives us the Idea about how close the accuracy score will be"
   ]
  },
  {
   "cell_type": "code",
   "execution_count": 47,
   "id": "2a8f5176",
   "metadata": {},
   "outputs": [
    {
     "name": "stdout",
     "output_type": "stream",
     "text": [
      "Baggin Accuracy with DT :  0.9315\n"
     ]
    }
   ],
   "source": [
    "y_pred_bag1 = bag.predict(x_test)\n",
    "\n",
    "print('Baggin Accuracy with DT : ',accuracy_score(y_test,y_pred_bag1))"
   ]
  },
  {
   "cell_type": "code",
   "execution_count": null,
   "id": "c053eb90",
   "metadata": {},
   "outputs": [],
   "source": [
    "## So its they are close. "
   ]
  },
  {
   "cell_type": "code",
   "execution_count": 48,
   "id": "540cb7ed",
   "metadata": {},
   "outputs": [],
   "source": [
    "## Bagging Tips\n",
    "\n",
    "# Bagging generally gives better result than Pasting.\n",
    "# Good Results comes around the 25% to 50% row sampling mark.\n",
    "# Random Patches and Random Subspaces (COLUMN SAMPLING) should be used while dealing with High Dimension Data\n",
    "# To find the correct Hyperparameter values we can use GridSearchCV or RandomSearchCV"
   ]
  },
  {
   "cell_type": "markdown",
   "id": "37d804c0",
   "metadata": {},
   "source": [
    "## Applying GridSearchCV"
   ]
  },
  {
   "cell_type": "code",
   "execution_count": 51,
   "id": "2439e7fb",
   "metadata": {},
   "outputs": [
    {
     "name": "stdout",
     "output_type": "stream",
     "text": [
      "Fitting 5 folds for each of 288 candidates, totalling 1440 fits\n"
     ]
    },
    {
     "data": {
      "text/plain": [
       "GridSearchCV(cv=5, estimator=BaggingClassifier(), n_jobs=-1,\n",
       "             param_grid={'bootstrap': [True, False],\n",
       "                         'max_features': [0.1, 0.3, 0.4, 0.6, 0.8, 1.0],\n",
       "                         'max_samples': [0.1, 0.2, 0.4, 0.6, 0.7, 1.0],\n",
       "                         'n_estimators': [100, 200, 300, 500]},\n",
       "             scoring='f1', verbose=True)"
      ]
     },
     "execution_count": 51,
     "metadata": {},
     "output_type": "execute_result"
    }
   ],
   "source": [
    "from sklearn.model_selection import GridSearchCV\n",
    "\n",
    "prams = {'n_estimators' : [100,200,300,500],\n",
    "        'max_samples': [0.1,0.20,0.40,0.6,0.7,1.0],\n",
    "        'max_features' : [0.1,0.3,0.4,0.6,0.8,1.0],\n",
    "        'bootstrap':[True, False]}\n",
    "search = GridSearchCV(BaggingClassifier(), param_grid=prams, cv = 5, verbose=True, n_jobs=-1,scoring='f1')\n",
    "\n",
    "search.fit(x_train,y_train)"
   ]
  },
  {
   "cell_type": "code",
   "execution_count": 52,
   "id": "4c2ecbe2",
   "metadata": {},
   "outputs": [
    {
     "data": {
      "text/plain": [
       "BaggingClassifier(n_estimators=200)"
      ]
     },
     "execution_count": 52,
     "metadata": {},
     "output_type": "execute_result"
    }
   ],
   "source": [
    "search.best_estimator_"
   ]
  },
  {
   "cell_type": "code",
   "execution_count": 53,
   "id": "414b0314",
   "metadata": {},
   "outputs": [
    {
     "data": {
      "text/plain": [
       "{'bootstrap': True,\n",
       " 'max_features': 1.0,\n",
       " 'max_samples': 1.0,\n",
       " 'n_estimators': 200}"
      ]
     },
     "execution_count": 53,
     "metadata": {},
     "output_type": "execute_result"
    }
   ],
   "source": [
    "search.best_params_"
   ]
  },
  {
   "cell_type": "code",
   "execution_count": 54,
   "id": "2d855a25",
   "metadata": {},
   "outputs": [
    {
     "data": {
      "text/plain": [
       "0.9328157153763309"
      ]
     },
     "execution_count": 54,
     "metadata": {},
     "output_type": "execute_result"
    }
   ],
   "source": [
    "search.best_score_"
   ]
  },
  {
   "cell_type": "code",
   "execution_count": null,
   "id": "c0e3b281",
   "metadata": {},
   "outputs": [],
   "source": [
    "## So these are our best parameters and best score obtain with the GridSearchCV()"
   ]
  }
 ],
 "metadata": {
  "kernelspec": {
   "display_name": "Python 3 (ipykernel)",
   "language": "python",
   "name": "python3"
  },
  "language_info": {
   "codemirror_mode": {
    "name": "ipython",
    "version": 3
   },
   "file_extension": ".py",
   "mimetype": "text/x-python",
   "name": "python",
   "nbconvert_exporter": "python",
   "pygments_lexer": "ipython3",
   "version": "3.9.12"
  }
 },
 "nbformat": 4,
 "nbformat_minor": 5
}
