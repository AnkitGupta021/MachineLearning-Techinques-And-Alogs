{
 "cells": [
  {
   "cell_type": "code",
   "execution_count": 4,
   "id": "76c5c569-460f-4691-b22c-72800a36d944",
   "metadata": {},
   "outputs": [
    {
     "name": "stdout",
     "output_type": "stream",
     "text": [
      "Mean Squared Error: 2659.1952\n"
     ]
    }
   ],
   "source": [
    "import xgboost as xgb\n",
    "from sklearn.datasets import make_regression\n",
    "from sklearn.model_selection import train_test_split\n",
    "from sklearn.metrics import mean_squared_error\n",
    "\n",
    "# Step 1: Generate a sample regression dataset\n",
    "X, y = make_regression(n_samples=1000, n_features=20, noise=0.1, random_state=42)\n",
    "\n",
    "# Step 2: Split the dataset into training and testing sets\n",
    "X_train, X_test, y_train, y_test = train_test_split(X, y, test_size=0.2, random_state=42)\n",
    "\n",
    "# Step 3: Define the XGBoost Regressor and set parameters\n",
    "xgb_regressor = xgb.XGBRegressor(\n",
    "    n_estimators=500,        # Number of trees (boosting rounds)\n",
    "    learning_rate=0.05,      # Step size shrinkage\n",
    "    max_depth=5,             # Maximum tree depth\n",
    "    min_child_weight=3,      # Minimum sum of instance weights (controls complexity)\n",
    "    subsample=0.8,           # Fraction of samples used for training each tree\n",
    "    colsample_bytree=0.8,    # Fraction of features used per tree\n",
    "    gamma=0.1,               # Minimum loss reduction required for a split\n",
    "    reg_alpha=0.1,           # L1 regularization (lasso)\n",
    "    reg_lambda=1.0,          # L2 regularization (ridge)\n",
    "    objective='reg:squarederror',  # Loss function\n",
    "    random_state=42,         # Seed for reproducibility\n",
    "    n_jobs=-1                # Use all CPU cores\n",
    ")\n",
    "\n",
    "# Step 4: Train the model\n",
    "xgb_regressor.fit(X_train, y_train)\n",
    "\n",
    "# Step 5: Make predictions on the test set\n",
    "y_pred = xgb_regressor.predict(X_test)\n",
    "\n",
    "# Step 6: Evaluate the model (using Mean Squared Error)\n",
    "mse = mean_squared_error(y_test, y_pred)\n",
    "print(f\"Mean Squared Error: {mse:.4f}\")\n"
   ]
  },
  {
   "cell_type": "code",
   "execution_count": null,
   "id": "a94fd191-246e-480c-90e8-d7975b0e59c5",
   "metadata": {},
   "outputs": [],
   "source": [
    "## Applying Grid Seach CV\n",
    "\n",
    "from sklearn.model_selection import GridSearchCV\n",
    "\n",
    "param_grid = {\n",
    "    'n_estimators': [500, 1000],\n",
    "    'learning_rate': [0.01, 0.05, 0.1],\n",
    "    'max_depth': [3, 5, 7],\n",
    "    'min_child_weight': [1, 3, 5],\n",
    "    'gamma': [0, 0.1, 0.5],\n",
    "    'subsample': [0.8, 1.0],\n",
    "    'colsample_bytree': [0.8, 1.0],\n",
    "    'reg_alpha': [0.1, 0.5],\n",
    "    'reg_lambda': [1.0, 2.0]\n",
    "}\n",
    "\n",
    "grid_search = GridSearchCV(estimator=xgb.XGBRegressor(), param_grid=param_grid, cv=5, scoring='neg_mean_squared_error', n_jobs=-1)\n",
    "grid_search.fit(X_train, y_train)\n",
    "\n",
    "print(f\"Best parameters: {grid_search.best_params_}\")\n"
   ]
  },
  {
   "cell_type": "code",
   "execution_count": null,
   "id": "a5cef8ea-9e8c-43d2-af4b-143ca84d075b",
   "metadata": {},
   "outputs": [],
   "source": []
  }
 ],
 "metadata": {
  "kernelspec": {
   "display_name": "Python 3 (ipykernel)",
   "language": "python",
   "name": "python3"
  },
  "language_info": {
   "codemirror_mode": {
    "name": "ipython",
    "version": 3
   },
   "file_extension": ".py",
   "mimetype": "text/x-python",
   "name": "python",
   "nbconvert_exporter": "python",
   "pygments_lexer": "ipython3",
   "version": "3.12.7"
  }
 },
 "nbformat": 4,
 "nbformat_minor": 5
}
