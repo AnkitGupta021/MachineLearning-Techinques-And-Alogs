{
 "cells": [
  {
   "cell_type": "code",
   "execution_count": 1,
   "id": "db5a5eaf-7089-43aa-a58e-950bcfa9d546",
   "metadata": {},
   "outputs": [
    {
     "name": "stdout",
     "output_type": "stream",
     "text": [
      "Accuracy: 0.9737\n"
     ]
    }
   ],
   "source": [
    "import xgboost as xgb\n",
    "from sklearn.datasets import load_breast_cancer\n",
    "from sklearn.model_selection import train_test_split\n",
    "from sklearn.metrics import accuracy_score\n",
    "\n",
    "# Load dataset\n",
    "data = load_breast_cancer()\n",
    "X, y = data.data, data.target\n",
    "\n",
    "# Split the dataset into training and testing sets\n",
    "X_train, X_test, y_train, y_test = train_test_split(X, y, test_size=0.2, random_state=42)\n",
    "\n",
    "# Initialize XGBoost Classifier with parameters\n",
    "xgb_classifier = xgb.XGBClassifier(\n",
    "    n_estimators=500,        # Number of boosting rounds (trees)\n",
    "    learning_rate=0.05,      # Step size shrinkage\n",
    "    max_depth=4,             # Maximum depth of a tree\n",
    "    min_child_weight=1,      # Minimum sum of instance weight needed in a child\n",
    "    subsample=0.8,           # Fraction of samples used for training each tree\n",
    "    colsample_bytree=0.8,    # Fraction of features used for training each tree\n",
    "    gamma=0,                 # Minimum loss reduction required to make a split\n",
    "    reg_alpha=0.01,          # L1 regularization (lasso)\n",
    "    reg_lambda=1.0,          # L2 regularization (ridge)\n",
    "    objective='binary:logistic',  # Binary classification objective\n",
    "    random_state=42,         # Ensures reproducibility\n",
    "    n_jobs=-1                # Use all CPU cores\n",
    ")\n",
    "\n",
    "# Train the model\n",
    "xgb_classifier.fit(X_train, y_train)\n",
    "\n",
    "# Make predictions\n",
    "y_pred = xgb_classifier.predict(X_test)\n",
    "\n",
    "# Evaluate accuracy\n",
    "accuracy = accuracy_score(y_test, y_pred)\n",
    "print(f\"Accuracy: {accuracy:.4f}\")\n"
   ]
  },
  {
   "cell_type": "code",
   "execution_count": null,
   "id": "c0f079d3-10b8-4ae3-9423-6f77a8c5476e",
   "metadata": {},
   "outputs": [],
   "source": []
  }
 ],
 "metadata": {
  "kernelspec": {
   "display_name": "Python 3 (ipykernel)",
   "language": "python",
   "name": "python3"
  },
  "language_info": {
   "codemirror_mode": {
    "name": "ipython",
    "version": 3
   },
   "file_extension": ".py",
   "mimetype": "text/x-python",
   "name": "python",
   "nbconvert_exporter": "python",
   "pygments_lexer": "ipython3",
   "version": "3.12.7"
  }
 },
 "nbformat": 4,
 "nbformat_minor": 5
}
